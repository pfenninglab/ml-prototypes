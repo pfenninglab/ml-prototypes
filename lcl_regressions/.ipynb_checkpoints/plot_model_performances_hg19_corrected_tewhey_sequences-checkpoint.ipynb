{
 "cells": [
  {
   "cell_type": "code",
   "execution_count": 2,
   "metadata": {
    "scrolled": true
   },
   "outputs": [],
   "source": [
    "import pandas as pd\n",
    "import numpy as np\n",
    "from keras.models import Sequential, load_model\n",
    "from scipy.stats import pearsonr, spearmanr\n",
    "import matplotlib.pyplot as plt\n",
    "from matplotlib import rcParams\n",
    "from regression_model import pearson_correlation\n",
    "rcParams.update({'figure.autolayout': True})\n",
    "rcParams['svg.fonttype'] = 'none'\n",
    "rcParams['font.size']=10\n",
    "import keras.metrics\n",
    "keras.metrics.pearson_correlation = pearson_correlation"
   ]
  },
  {
   "cell_type": "code",
   "execution_count": 5,
   "metadata": {},
   "outputs": [],
   "source": [
    "model_11_hg19 = load_model('/projects/pfenninggroup/machineLearningForComputationalBiology/eramamur_stuff/ml_lcl/model_11_hg19.hdf5')"
   ]
  },
  {
   "cell_type": "code",
   "execution_count": 7,
   "metadata": {},
   "outputs": [],
   "source": [
    "X_train = np.load('/projects/pfenninggroup/machineLearningForComputationalBiology/eramamur_stuff/ml_lcl/chrs_training_summit_centered_training_set_hg19_X.npy')\n",
    "Y_train = np.load('/projects/pfenninggroup/machineLearningForComputationalBiology/eramamur_stuff/ml_lcl/chrs_training_summit_centered_training_set_hg19_Y.npy')\n",
    "X_valid = np.load('/projects/pfenninggroup/machineLearningForComputationalBiology/eramamur_stuff/ml_lcl/chr4_summit_centered_validation_set_hg19_X.npy')\n",
    "Y_valid = np.load('/projects/pfenninggroup/machineLearningForComputationalBiology/eramamur_stuff/ml_lcl/chr4_summit_centered_validation_set_hg19_Y.npy')"
   ]
  },
  {
   "cell_type": "code",
   "execution_count": null,
   "metadata": {},
   "outputs": [],
   "source": [
    "pred_train = model_11_hg19.predict(X_train)\n",
    "pred_valid = model_11_hg19.predict(X_valid)"
   ]
  },
  {
   "cell_type": "code",
   "execution_count": null,
   "metadata": {},
   "outputs": [],
   "source": [
    "f, (ax1, ax2) = plt.subplots(nrows=1, ncols=2)\n",
    "\n",
    "plt.title(\"Model Performance\")\n",
    "\n",
    "ax1.scatter(Y_train, pred_train)\n",
    "ax1.set_xlabel(\"True Fold Change (training)\")\n",
    "ax1.set_ylabel(\"Predicted Fold Change (training)\")\n",
    "ax2.scatter(Y_valid, pred_valid)\n",
    "ax2.set_xlabel(\"True Fold Change (validation)\")\n",
    "ax2.set_ylabel(\"Predicted Fold Change (validation)\")\n",
    "plt.show()\n",
    "print(\"Training:\",pearsonr(Y_train, pred_train))\n",
    "print(\"Training:\",spearmanr(Y_train, pred_train))\n",
    "\n",
    "print(\"Validation:\",pearsonr(Y_valid, pred_valid))\n",
    "print(\"Validation:\",spearmanr(Y_valid, pred_valid))"
   ]
  },
  {
   "cell_type": "code",
   "execution_count": 9,
   "metadata": {},
   "outputs": [],
   "source": [
    "tewhey_ref_sequences = np.load(\"/projects/pfenninggroup/machineLearningForComputationalBiology/eramamur_stuff/ml_lcl/tewhey_one_hot_encoded_ref_sequences.npy\")\n",
    "tewhey_alt_sequences = np.load(\"/projects/pfenninggroup/machineLearningForComputationalBiology/eramamur_stuff/ml_lcl/tewhey_one_hot_encoded_alt_sequences.npy\")"
   ]
  },
  {
   "cell_type": "code",
   "execution_count": null,
   "metadata": {},
   "outputs": [],
   "source": [
    "ref_scores = model_11_hg19.predict(tewhey_ref_sequences)\n",
    "alt_scores = model_11_hg19.predict(tewhey_alt_sequences)"
   ]
  },
  {
   "cell_type": "code",
   "execution_count": null,
   "metadata": {},
   "outputs": [],
   "source": [
    "tewhey_snp_info = pd.read_csv(\"/projects/pfenninggroup/machineLearningForComputationalBiology/eramamur_stuff/ml_lcl/tewhey_snps_data_extended_joined_to_1kg_mappings_with_1kb_snp_centered_sequences.txt\",\n",
    "                              sep=\"\\t\")"
   ]
  },
  {
   "cell_type": "code",
   "execution_count": null,
   "metadata": {},
   "outputs": [],
   "source": []
  }
 ],
 "metadata": {
  "kernelspec": {
   "display_name": "Python [conda env:gpu_keras_theano]",
   "language": "python",
   "name": "conda-env-gpu_keras_theano-py"
  },
  "language_info": {
   "codemirror_mode": {
    "name": "ipython",
    "version": 3
   },
   "file_extension": ".py",
   "mimetype": "text/x-python",
   "name": "python",
   "nbconvert_exporter": "python",
   "pygments_lexer": "ipython3",
   "version": "3.6.7"
  }
 },
 "nbformat": 4,
 "nbformat_minor": 2
}
