{
 "cells": [
  {
   "cell_type": "code",
   "execution_count": 1,
   "metadata": {
    "collapsed": true
   },
   "outputs": [],
   "source": [
    "import numpy as np\n",
    "\n",
    "def strip_first_col(fname, delimiter=None):\n",
    "    with open(fname, 'r') as fin:\n",
    "        for line in fin:\n",
    "            try:\n",
    "               yield line.split(delimiter, 1)[1]\n",
    "            except IndexError:\n",
    "               continue"
   ]
  },
  {
   "cell_type": "code",
   "execution_count": 2,
   "metadata": {
    "collapsed": false
   },
   "outputs": [],
   "source": [
    "filename = 'jund_all_kmer_counts.tsv'\n",
    "np.random.seed(0)\n",
    "ncols = 0\n",
    "ids = []\n",
    "with open(filename) as f:\n",
    "    ncols = len(f.readline().split('\\t'))\n",
    "    for line in f:\n",
    "        ids.append(line.split(\"\\t\",1)[0])\n",
    "ids = np.array(ids)"
   ]
  },
  {
   "cell_type": "code",
   "execution_count": 3,
   "metadata": {
    "collapsed": false
   },
   "outputs": [],
   "source": [
    "X = np.loadtxt(strip_first_col(filename),skiprows=1)"
   ]
  },
  {
   "cell_type": "code",
   "execution_count": 4,
   "metadata": {
    "collapsed": false
   },
   "outputs": [],
   "source": [
    "numPos = 6979\n",
    "numNeg = 6979\n",
    "numTotal = numPos + numNeg\n",
    "pos_examples = X[:numPos][:]\n",
    "neg_examples = X[numPos:][:]\n",
    "pos_ids = ids[:numPos]\n",
    "neg_ids = ids[numPos:]\n",
    "\n",
    "posPermutation = np.random.permutation(numPos)\n",
    "negPermutation = np.random.permutation(numNeg)\n",
    "\n",
    "pos_ids = pos_ids[posPermutation]\n",
    "neg_ids = neg_ids[negPermutation]\n",
    "pos_examples = pos_examples[posPermutation][:]\n",
    "neg_examples = neg_examples[negPermutation][:]\n",
    "\n",
    "numPosTrain = numPos/2\n",
    "numNegTrain = numNeg/2\n",
    "\n",
    "numPosTest = numPos - numPosTrain\n",
    "numNegTest = numNeg - numNegTrain\n",
    "\n",
    "pos_train = pos_examples[:numPosTrain][:]\n",
    "neg_train = neg_examples[:numNegTrain][:]\n",
    "Xtrain = np.concatenate((pos_train, neg_train))\n",
    "\n",
    "pos_test = pos_examples[numPosTrain:][:]\n",
    "neg_test = neg_examples[numNegTrain:][:]\n",
    "Xtest = np.concatenate((pos_test, neg_test))\n",
    "\n",
    "Ytrain = np.concatenate((2*np.ones(numPosTrain, dtype=int), np.ones(numNegTrain, dtype=int)))\n",
    "Ytest = np.concatenate((2*np.ones(numPosTest, dtype=int), np.ones(numNegTest, dtype=int)))\n",
    "\n",
    "featureMeans = np.mean(Xtrain, axis=0)\n",
    "featureStds = np.std(Xtrain, axis=0)\n"
   ]
  },
  {
   "cell_type": "code",
   "execution_count": 5,
   "metadata": {
    "collapsed": false
   },
   "outputs": [],
   "source": [
    "from sklearn.ensemble import RandomForestClassifier\n",
    "from sklearn.calibration import CalibratedClassifierCV\n",
    "from sklearn.metrics import log_loss\n",
    "from sklearn.metrics import auc\n",
    "from sklearn.metrics import roc_curve"
   ]
  },
  {
   "cell_type": "code",
   "execution_count": 6,
   "metadata": {
    "collapsed": false
   },
   "outputs": [],
   "source": [
    "clf = RandomForestClassifier(n_estimators=25)\n",
    "clf.fit(Xtrain, Ytrain)\n",
    "clf_probs = clf.predict_proba(Xtest)\n",
    "pred = clf.predict(Xtest)\n",
    "score = log_loss(Ytest, clf_probs)"
   ]
  },
  {
   "cell_type": "code",
   "execution_count": 7,
   "metadata": {
    "collapsed": false
   },
   "outputs": [],
   "source": [
    "fpr, tpr, thresholds = roc_curve(Ytest, clf_probs[:,1], pos_label=2)"
   ]
  },
  {
   "cell_type": "code",
   "execution_count": 8,
   "metadata": {
    "collapsed": false
   },
   "outputs": [
    {
     "data": {
      "text/plain": [
       "0.78744989778409047"
      ]
     },
     "execution_count": 8,
     "metadata": {},
     "output_type": "execute_result"
    }
   ],
   "source": [
    "auc(fpr, tpr)"
   ]
  },
  {
   "cell_type": "code",
   "execution_count": 9,
   "metadata": {
    "collapsed": false
   },
   "outputs": [
    {
     "data": {
      "image/png": "[encoded data removed]",
      "text/plain": [
       "<matplotlib.figure.Figure at 0x24979fd0>"
      ]
     },
     "metadata": {},
     "output_type": "display_data"
    }
   ],
   "source": [
    "import matplotlib.pyplot as plt\n",
    "plt.plot(fpr, tpr)\n",
    "plt.show()"
   ]
  },
  {
   "cell_type": "code",
   "execution_count": 10,
   "metadata": {
    "collapsed": false
   },
   "outputs": [],
   "source": [
    "features = np.loadtxt('jund_all_kmer_vocab.txt', dtype=str)"
   ]
  },
  {
   "cell_type": "code",
   "execution_count": 11,
   "metadata": {
    "collapsed": false
   },
   "outputs": [],
   "source": [
    "feature_importance_order = np.argsort(clf.feature_importances_)[::-1]\n",
    "\n",
    "features_sorted_by_importance = features[feature_importance_order]\n",
    "feature_importances_sorted = clf.feature_importances_[feature_importance_order]"
   ]
  },
  {
   "cell_type": "code",
   "execution_count": 12,
   "metadata": {
    "collapsed": false
   },
   "outputs": [
    {
     "data": {
      "text/plain": [
       "array(['TGACTC', 'ANTCAT', 'GACTNA', ..., 'CACGTT', 'GGGACC', 'GNCATC'], \n",
       "      dtype='|S6')"
      ]
     },
     "execution_count": 12,
     "metadata": {},
     "output_type": "execute_result"
    }
   ],
   "source": [
    "features_sorted_by_importance"
   ]
  },
  {
   "cell_type": "code",
   "execution_count": 13,
   "metadata": {
    "collapsed": false
   },
   "outputs": [
    {
     "name": "stdout",
     "output_type": "stream",
     "text": [
      "['TGACTC' 'ANTCAT' 'GACTNA' 'NTGACT' 'GTCATN' 'GACTCA' 'TGANTC' 'ACTCAN'\n",
      " 'NNGTCA' 'NACTCA' 'TGACTN' 'GACTCN' 'GTCANN' 'TGACNC' 'AGTCAC' 'NGTCAT'\n",
      " 'TGACNT' 'TNACTC' 'AGTCAT' 'ACTCAT' 'GTCATC' 'ATTTNT' 'ACGNCA' 'GNCTCA'\n",
      " 'GTCATT' 'AANTGA' 'CGTCAC' 'TNNCGG' 'NNTCAT' 'TGNGTC' 'TGNNTC' 'ATAANN'\n",
      " 'CNNGCG' 'CCGGNG' 'TGANNC' 'ACTNNC' 'ACGTCA' 'AAAANT' 'NTGAAA' 'ACGTCN'\n",
      " 'TGGANN' 'GACGNC' 'NNGACT' 'ACTCNN' 'NTCATT' 'TANNAA' 'AGTNAT' 'CNTCCG'\n",
      " 'CGTCAN' 'GNTGAC']\n",
      "[ 0.00860422  0.00767701  0.00651962  0.00634559  0.00595287  0.00538834\n",
      "  0.00466007  0.00461171  0.00407606  0.00402924  0.00352544  0.00330698\n",
      "  0.00300394  0.00296921  0.002741    0.00271551  0.00247272  0.00242639\n",
      "  0.00230066  0.00226285  0.00202409  0.00201123  0.00194989  0.00187128\n",
      "  0.00182772  0.00173785  0.00166394  0.00165713  0.00165251  0.0016068\n",
      "  0.00158698  0.00156808  0.00156199  0.00154977  0.00153101  0.00150138\n",
      "  0.00149335  0.0014713   0.00143161  0.00143068  0.00136755  0.00136634\n",
      "  0.00135593  0.00135226  0.00132586  0.00131418  0.00131042  0.00129714\n",
      "  0.00129123  0.00128831]\n"
     ]
    }
   ],
   "source": [
    "print features_sorted_by_importance[0:50]\n",
    "print feature_importances_sorted[0:50]"
   ]
  },
  {
   "cell_type": "code",
   "execution_count": 14,
   "metadata": {
    "collapsed": false
   },
   "outputs": [
    {
     "data": {
      "image/png": "[encoded data removed]",
      "text/plain": [
       "<matplotlib.figure.Figure at 0x5e218a90>"
      ]
     },
     "metadata": {},
     "output_type": "display_data"
    }
   ],
   "source": [
    "plt.plot(feature_importances_sorted[0:200])\n",
    "plt.title(\"Feature scores for k-mers using random forest classier\")\n",
    "plt.ylabel(\"Feature importance score\")\n",
    "plt.xlabel(\"Rank of feature\")\n",
    "plt.show()"
   ]
  },
  {
   "cell_type": "code",
   "execution_count": 15,
   "metadata": {
    "collapsed": false
   },
   "outputs": [
    {
     "data": {
      "text/plain": [
       "0.71103151862464187"
      ]
     },
     "execution_count": 15,
     "metadata": {},
     "output_type": "execute_result"
    }
   ],
   "source": [
    "sum(pred==Ytest)*1.0/len(Ytest)"
   ]
  },
  {
   "cell_type": "code",
   "execution_count": 37,
   "metadata": {
    "collapsed": true
   },
   "outputs": [],
   "source": [
    "from sklearn.svm import SVC\n",
    "clf = SVC(probability=True)\n",
    "clf.fit(Xtrain, Ytrain) \n",
    "pred = clf.predict(Xtest)"
   ]
  },
  {
   "cell_type": "code",
   "execution_count": 41,
   "metadata": {
    "collapsed": false
   },
   "outputs": [
    {
     "data": {
      "text/plain": [
       "0.77091690544412605"
      ]
     },
     "execution_count": 41,
     "metadata": {},
     "output_type": "execute_result"
    }
   ],
   "source": [
    "sum(pred==Ytest)*1.0/len(pred)"
   ]
  },
  {
   "cell_type": "code",
   "execution_count": 47,
   "metadata": {
    "collapsed": false
   },
   "outputs": [],
   "source": [
    "predProb = clf.predict_proba(Xtest)"
   ]
  },
  {
   "cell_type": "code",
   "execution_count": 50,
   "metadata": {
    "collapsed": false
   },
   "outputs": [],
   "source": [
    "svm_fpr, svm_tpr, thresholds = roc_curve(Ytest, predProb[:,1], pos_label=2)"
   ]
  },
  {
   "cell_type": "code",
   "execution_count": 51,
   "metadata": {
    "collapsed": false
   },
   "outputs": [
    {
     "data": {
      "text/plain": [
       "0.85770469864779442"
      ]
     },
     "execution_count": 51,
     "metadata": {},
     "output_type": "execute_result"
    }
   ],
   "source": [
    "auc(svm_fpr, svm_tpr)"
   ]
  },
  {
   "cell_type": "code",
   "execution_count": 57,
   "metadata": {
    "collapsed": false
   },
   "outputs": [
    {
     "data": {
      "text/plain": [
       "array([[  0.00000000e+00,   0.00000000e+00,   2.86532951e-04, ...,\n",
       "          9.64756447e-01,   9.64756447e-01,   1.00000000e+00],\n",
       "       [  2.86532951e-04,   1.48997135e-02,   1.48997135e-02, ...,\n",
       "          9.99713467e-01,   1.00000000e+00,   1.00000000e+00]])"
      ]
     },
     "execution_count": 57,
     "metadata": {},
     "output_type": "execute_result"
    }
   ],
   "source": [
    "np.stack((svm_fpr, svm_tpr))"
   ]
  },
  {
   "cell_type": "code",
   "execution_count": 59,
   "metadata": {
    "collapsed": true
   },
   "outputs": [],
   "source": [
    "np.savetxt('svm_roc.txt', np.stack((svm_fpr, svm_tpr)).T)"
   ]
  },
  {
   "cell_type": "code",
   "execution_count": 61,
   "metadata": {
    "collapsed": false
   },
   "outputs": [],
   "source": [
    "np.savetxt('rf_roc.txt', np.stack((fpr, tpr)).T)"
   ]
  },
  {
   "cell_type": "code",
   "execution_count": null,
   "metadata": {
    "collapsed": true
   },
   "outputs": [],
   "source": []
  }
 ],
 "metadata": {
  "anaconda-cloud": {},
  "kernelspec": {
   "display_name": "Python [conda root]",
   "language": "python",
   "name": "conda-root-py"
  },
  "language_info": {
   "codemirror_mode": {
    "name": "ipython",
    "version": 2
   },
   "file_extension": ".py",
   "mimetype": "text/x-python",
   "name": "python",
   "nbconvert_exporter": "python",
   "pygments_lexer": "ipython2",
   "version": "2.7.12"
  }
 },
 "nbformat": 4,
 "nbformat_minor": 1
}
