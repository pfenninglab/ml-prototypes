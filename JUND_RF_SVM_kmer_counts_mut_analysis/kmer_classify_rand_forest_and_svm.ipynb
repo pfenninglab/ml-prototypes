{
 "cells": [
  {
   "cell_type": "code",
   "execution_count": 16,
   "metadata": {
    "collapsed": true
   },
   "outputs": [],
   "source": [
    "import numpy as np\n",
    "\n",
    "def strip_first_col(fname, delimiter=None):\n",
    "    with open(fname, 'r') as fin:\n",
    "        for line in fin:\n",
    "            try:\n",
    "               yield line.split(delimiter, 1)[1]\n",
    "            except IndexError:\n",
    "               continue"
   ]
  },
  {
   "cell_type": "code",
   "execution_count": 17,
   "metadata": {
    "collapsed": false
   },
   "outputs": [],
   "source": [
    "filename = 'jund_all_kmer_counts.tsv'\n",
    "np.random.seed(0)\n",
    "ncols = 0\n",
    "ids = []\n",
    "with open(filename) as f:\n",
    "    ncols = len(f.readline().split('\\t'))\n",
    "    for line in f:\n",
    "        ids.append(line.split(\"\\t\",1)[0])\n",
    "ids = np.array(ids)"
   ]
  },
  {
   "cell_type": "code",
   "execution_count": 18,
   "metadata": {
    "collapsed": false
   },
   "outputs": [],
   "source": [
    "X = np.loadtxt(strip_first_col(filename),skiprows=1)"
   ]
  },
  {
   "cell_type": "code",
   "execution_count": 21,
   "metadata": {
    "collapsed": false
   },
   "outputs": [],
   "source": [
    "numPos = 6979\n",
    "numNeg = 6979\n",
    "numTotal = numPos + numNeg\n",
    "pos_examples = X[:numPos][:]\n",
    "neg_examples = X[numPos:][:]\n",
    "pos_ids = ids[:numPos]\n",
    "neg_ids = ids[numPos:]\n",
    "\n",
    "posPermutation = np.random.permutation(numPos)\n",
    "negPermutation = np.random.permutation(numNeg)\n",
    "\n",
    "pos_ids = pos_ids[posPermutation]\n",
    "neg_ids = neg_ids[negPermutation]\n",
    "pos_examples = pos_examples[posPermutation][:]\n",
    "neg_examples = neg_examples[negPermutation][:]\n",
    "\n",
    "numPosTrain = numPos/2\n",
    "numNegTrain = numNeg/2\n",
    "\n",
    "numPosTest = numPos - numPosTrain\n",
    "numNegTest = numNeg - numNegTrain\n",
    "\n",
    "pos_train = pos_examples[:numPosTrain][:]\n",
    "neg_train = neg_examples[:numNegTrain][:]\n",
    "Xtrain = np.concatenate((pos_train, neg_train))\n",
    "\n",
    "pos_test = pos_examples[numPosTrain:][:]\n",
    "neg_test = neg_examples[numNegTrain:][:]\n",
    "Xtest = np.concatenate((pos_test, neg_test))\n",
    "\n",
    "Ytrain = np.concatenate((2*np.ones(numPosTrain, dtype=int), np.ones(numNegTrain, dtype=int)))\n",
    "Ytest = np.concatenate((2*np.ones(numPosTest, dtype=int), np.ones(numNegTest, dtype=int)))\n",
    "\n",
    "featureMins = np.min(Xtrain, axis=0)\n",
    "featureMaxs = np.max(Xtrain, axis=0)\n",
    "\n",
    "Xtrain = np.subtract(Xtrain, featureMins)\n",
    "Xtrain = np.divide(Xtrain, featureMaxs - featureMins)\n",
    "\n",
    "Xtest = np.subtract(Xtest, featureMins)\n",
    "Xtest = np.divide(Xtest, featureMaxs - featureMins)"
   ]
  },
  {
   "cell_type": "code",
   "execution_count": 22,
   "metadata": {
    "collapsed": false
   },
   "outputs": [],
   "source": [
    "from sklearn.ensemble import RandomForestClassifier\n",
    "from sklearn.calibration import CalibratedClassifierCV\n",
    "from sklearn.metrics import log_loss\n",
    "from sklearn.metrics import auc\n",
    "from sklearn.metrics import roc_curve"
   ]
  },
  {
   "cell_type": "code",
   "execution_count": 23,
   "metadata": {
    "collapsed": false
   },
   "outputs": [],
   "source": [
    "clf = RandomForestClassifier(n_estimators=25)\n",
    "clf.fit(Xtrain, Ytrain)\n",
    "clf_probs = clf.predict_proba(Xtest)\n",
    "pred = clf.predict(Xtest)\n",
    "score = log_loss(Ytest, clf_probs)"
   ]
  },
  {
   "cell_type": "code",
   "execution_count": 24,
   "metadata": {
    "collapsed": false
   },
   "outputs": [],
   "source": [
    "fpr, tpr, thresholds = roc_curve(Ytest, clf_probs[:,1], pos_label=2)"
   ]
  },
  {
   "cell_type": "code",
   "execution_count": 25,
   "metadata": {
    "collapsed": false
   },
   "outputs": [
    {
     "data": {
      "text/plain": [
       "0.79001855485587147"
      ]
     },
     "execution_count": 25,
     "metadata": {},
     "output_type": "execute_result"
    }
   ],
   "source": [
    "auc(fpr, tpr)"
   ]
  },
  {
   "cell_type": "code",
   "execution_count": 26,
   "metadata": {
    "collapsed": false
   },
   "outputs": [
    {
     "data": {
      "image/png": "[encoded data removed]",
      "text/plain": [
       "<matplotlib.figure.Figure at 0x664c2898>"
      ]
     },
     "metadata": {},
     "output_type": "display_data"
    }
   ],
   "source": [
    "import matplotlib.pyplot as plt\n",
    "plt.plot(fpr, tpr)\n",
    "plt.show()"
   ]
  },
  {
   "cell_type": "code",
   "execution_count": 27,
   "metadata": {
    "collapsed": false
   },
   "outputs": [],
   "source": [
    "features = np.loadtxt('jund_all_kmer_vocab.txt', dtype=str)"
   ]
  },
  {
   "cell_type": "code",
   "execution_count": 28,
   "metadata": {
    "collapsed": false
   },
   "outputs": [],
   "source": [
    "feature_importance_order = np.argsort(clf.feature_importances_)[::-1]\n",
    "\n",
    "features_sorted_by_importance = features[feature_importance_order]\n",
    "feature_importances_sorted = clf.feature_importances_[feature_importance_order]"
   ]
  },
  {
   "cell_type": "code",
   "execution_count": 29,
   "metadata": {
    "collapsed": false
   },
   "outputs": [
    {
     "data": {
      "text/plain": [
       "array(['TGANTC', 'TNACTC', 'TGACTN', ..., 'CGAGAG', 'TCNGCG', 'CGTAGG'], \n",
       "      dtype='|S6')"
      ]
     },
     "execution_count": 29,
     "metadata": {},
     "output_type": "execute_result"
    }
   ],
   "source": [
    "features_sorted_by_importance"
   ]
  },
  {
   "cell_type": "code",
   "execution_count": 30,
   "metadata": {
    "collapsed": false
   },
   "outputs": [
    {
     "name": "stdout",
     "output_type": "stream",
     "text": [
      "['TGANTC' 'TNACTC' 'TGACTN' 'ACTCAN' 'GACTCA' 'GTCANN' 'AGTCAT' 'NNGTCA'\n",
      " 'NGTCAT' 'NACTCA' 'NTGACT' 'TGACTC' 'GTCATN' 'TGANNC' 'GNTGAC' 'TGACNC'\n",
      " 'GACTCN' 'TGNGTC' 'ANTCAT' 'ACTCAT' 'NCGTCA' 'ACGNCA' 'ACGTCA' 'AGTNAT'\n",
      " 'ATGNGT' 'TGACTA' 'GACTNN' 'GTCATA' 'TNTATT' 'CTCATN' 'GNCTCA' 'NACGTC'\n",
      " 'ATTNNA' 'NNGTGA' 'AANTGA' 'GCGGNN' 'ATNNAA' 'NNGCGG' 'TGACNT' 'AAAANT'\n",
      " 'ACTNNC' 'GACGNC' 'GTCATT' 'TNNCGG' 'ANGACT' 'NGACTC' 'TGAAAN' 'CAGCNG'\n",
      " 'TCATTN' 'CAGNCT']\n",
      "[ 0.02279464  0.00619942  0.00603215  0.00464458  0.0046389   0.00455345\n",
      "  0.00402763  0.00401281  0.00357248  0.00345776  0.00320888  0.00313709\n",
      "  0.00292862  0.00277828  0.00268473  0.00244937  0.00235918  0.00223751\n",
      "  0.00219799  0.0021698   0.00208702  0.00197498  0.00192263  0.00188081\n",
      "  0.00172687  0.00163993  0.00163029  0.00159899  0.0015637   0.00153665\n",
      "  0.00150138  0.00148288  0.00147774  0.00145969  0.00143278  0.00140376\n",
      "  0.00138466  0.00134602  0.00134076  0.00130939  0.00130925  0.00130221\n",
      "  0.00130147  0.00129493  0.00128679  0.00127912  0.00116722  0.00114193\n",
      "  0.00113379  0.00111669]\n"
     ]
    }
   ],
   "source": [
    "print features_sorted_by_importance[0:50]\n",
    "print feature_importances_sorted[0:50]"
   ]
  },
  {
   "cell_type": "code",
   "execution_count": 31,
   "metadata": {
    "collapsed": false
   },
   "outputs": [
    {
     "data": {
      "image/png": "[encoded data removed]",
      "text/plain": [
       "<matplotlib.figure.Figure at 0x7088dac8>"
      ]
     },
     "metadata": {},
     "output_type": "display_data"
    }
   ],
   "source": [
    "plt.plot(feature_importances_sorted[0:200])\n",
    "plt.title(\"Feature scores for k-mers using random forest classier\")\n",
    "plt.ylabel(\"Feature importance score\")\n",
    "plt.xlabel(\"Rank of feature\")\n",
    "plt.show()"
   ]
  },
  {
   "cell_type": "code",
   "execution_count": 32,
   "metadata": {
    "collapsed": false
   },
   "outputs": [
    {
     "data": {
      "text/plain": [
       "0.71275071633237819"
      ]
     },
     "execution_count": 32,
     "metadata": {},
     "output_type": "execute_result"
    }
   ],
   "source": [
    "sum(pred==Ytest)*1.0/len(Ytest)"
   ]
  },
  {
   "cell_type": "code",
   "execution_count": 33,
   "metadata": {
    "collapsed": true
   },
   "outputs": [],
   "source": [
    "from sklearn.svm import SVC\n",
    "clf = SVC(probability=True)\n",
    "clf.fit(Xtrain, Ytrain) \n",
    "pred = clf.predict(Xtest)"
   ]
  },
  {
   "cell_type": "code",
   "execution_count": 34,
   "metadata": {
    "collapsed": false
   },
   "outputs": [
    {
     "data": {
      "text/plain": [
       "0.73137535816618915"
      ]
     },
     "execution_count": 34,
     "metadata": {},
     "output_type": "execute_result"
    }
   ],
   "source": [
    "sum(pred==Ytest)*1.0/len(pred)"
   ]
  },
  {
   "cell_type": "code",
   "execution_count": 35,
   "metadata": {
    "collapsed": false
   },
   "outputs": [],
   "source": [
    "predProb = clf.predict_proba(Xtest)"
   ]
  },
  {
   "cell_type": "code",
   "execution_count": 36,
   "metadata": {
    "collapsed": false
   },
   "outputs": [],
   "source": [
    "svm_fpr, svm_tpr, thresholds = roc_curve(Ytest, predProb[:,1], pos_label=2)"
   ]
  },
  {
   "cell_type": "code",
   "execution_count": 37,
   "metadata": {
    "collapsed": false
   },
   "outputs": [
    {
     "data": {
      "text/plain": [
       "0.81250071838490645"
      ]
     },
     "execution_count": 37,
     "metadata": {},
     "output_type": "execute_result"
    }
   ],
   "source": [
    "auc(svm_fpr, svm_tpr)"
   ]
  },
  {
   "cell_type": "code",
   "execution_count": 38,
   "metadata": {
    "collapsed": true
   },
   "outputs": [],
   "source": [
    "np.savetxt('svm_roc.txt', np.stack((svm_fpr, svm_tpr)).T)"
   ]
  },
  {
   "cell_type": "code",
   "execution_count": 39,
   "metadata": {
    "collapsed": false
   },
   "outputs": [],
   "source": [
    "np.savetxt('rf_roc.txt', np.stack((fpr, tpr)).T)"
   ]
  },
  {
   "cell_type": "code",
   "execution_count": null,
   "metadata": {
    "collapsed": true
   },
   "outputs": [],
   "source": []
  }
 ],
 "metadata": {
  "anaconda-cloud": {},
  "kernelspec": {
   "display_name": "Python [conda root]",
   "language": "python",
   "name": "conda-root-py"
  },
  "language_info": {
   "codemirror_mode": {
    "name": "ipython",
    "version": 2
   },
   "file_extension": ".py",
   "mimetype": "text/x-python",
   "name": "python",
   "nbconvert_exporter": "python",
   "pygments_lexer": "ipython2",
   "version": "2.7.12"
  }
 },
 "nbformat": 4,
 "nbformat_minor": 1
}
