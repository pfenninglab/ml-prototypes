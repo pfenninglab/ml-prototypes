{
 "cells": [
  {
   "cell_type": "code",
   "execution_count": 1,
   "metadata": {},
   "outputs": [
    {
     "name": "stderr",
     "output_type": "stream",
     "text": [
      "Using Theano backend.\n",
      "WARNING (theano.sandbox.cuda): The cuda backend is deprecated and will be removed in the next release (v0.10).  Please switch to the gpuarray backend. You can get more information about how to switch at this URL:\n",
      " https://github.com/Theano/Theano/wiki/Converting-to-the-new-gpu-back-end%28gpuarray%29\n",
      "\n",
      "Using gpu device 0: GeForce GTX 1080 (CNMeM is enabled with initial size: 95.0% of memory, cuDNN 5105)\n"
     ]
    }
   ],
   "source": [
    "from danq import get_danq_model\n",
    "import numpy as np\n",
    "\n",
    "X_train = np.load('/projects/pfenninggroup/machineLearningForComputationalBiology/regElEvoGrant/DifferentialPeakAnalysis/X_train_merged50.npy')\n",
    "Y_train = np.load('/projects/pfenninggroup/machineLearningForComputationalBiology/regElEvoGrant/DifferentialPeakAnalysis/Y_train_merged50.npy')\n",
    "\n",
    "X_valid = np.load('/projects/pfenninggroup/machineLearningForComputationalBiology/regElEvoGrant/DifferentialPeakAnalysis/X_valid_merged50.npy')\n",
    "Y_valid = np.load('/projects/pfenninggroup/machineLearningForComputationalBiology/regElEvoGrant/DifferentialPeakAnalysis/Y_valid_merged50.npy')"
   ]
  },
  {
   "cell_type": "code",
   "execution_count": 2,
   "metadata": {
    "collapsed": true
   },
   "outputs": [],
   "source": [
    "X_train = X_train[0:20][:][:]\n",
    "Y_train = Y_train[0:20][:]\n",
    "\n",
    "X_valid = X_train[0:20][:][:]\n",
    "Y_valid = Y_valid[0:20][:][:]"
   ]
  },
  {
   "cell_type": "code",
   "execution_count": 3,
   "metadata": {
    "collapsed": true
   },
   "outputs": [],
   "source": [
    "model = get_danq_model(numLabels=1)\n",
    "model.load_weights('/projects/pfenninggroup/machineLearningForComputationalBiology/regElEvoGrant/DifferentialPeakAnalysis/saved_danq_models/danq_corliv_lower_lr_higher_dropout.hdf5')"
   ]
  },
  {
   "cell_type": "code",
   "execution_count": 4,
   "metadata": {},
   "outputs": [
    {
     "name": "stdout",
     "output_type": "stream",
     "text": [
      "20/20 [==============================] - 0s\n",
      "20/20 [==============================] - 0s\n"
     ]
    }
   ],
   "source": [
    "pred_train = model.predict_proba(X_train)\n",
    "pred_valid = model.predict_proba(X_valid)"
   ]
  },
  {
   "cell_type": "code",
   "execution_count": 8,
   "metadata": {},
   "outputs": [
    {
     "name": "stdout",
     "output_type": "stream",
     "text": [
      "[1 1 1 1 1 1 1 1 1 1 1 1 1 1 1 1 1 1 1 1]\n",
      "[[ True]\n",
      " [ True]\n",
      " [False]\n",
      " [False]\n",
      " [False]\n",
      " [False]\n",
      " [False]\n",
      " [ True]\n",
      " [ True]\n",
      " [ True]\n",
      " [False]\n",
      " [False]\n",
      " [False]\n",
      " [False]\n",
      " [False]\n",
      " [False]\n",
      " [False]\n",
      " [False]\n",
      " [False]\n",
      " [False]]\n",
      "[[ True  True  True  True  True  True  True  True  True  True  True  True\n",
      "   True  True  True  True  True  True  True  True]\n",
      " [ True  True  True  True  True  True  True  True  True  True  True  True\n",
      "   True  True  True  True  True  True  True  True]\n",
      " [False False False False False False False False False False False False\n",
      "  False False False False False False False False]\n",
      " [False False False False False False False False False False False False\n",
      "  False False False False False False False False]\n",
      " [False False False False False False False False False False False False\n",
      "  False False False False False False False False]\n",
      " [False False False False False False False False False False False False\n",
      "  False False False False False False False False]\n",
      " [False False False False False False False False False False False False\n",
      "  False False False False False False False False]\n",
      " [ True  True  True  True  True  True  True  True  True  True  True  True\n",
      "   True  True  True  True  True  True  True  True]\n",
      " [ True  True  True  True  True  True  True  True  True  True  True  True\n",
      "   True  True  True  True  True  True  True  True]\n",
      " [ True  True  True  True  True  True  True  True  True  True  True  True\n",
      "   True  True  True  True  True  True  True  True]\n",
      " [False False False False False False False False False False False False\n",
      "  False False False False False False False False]\n",
      " [False False False False False False False False False False False False\n",
      "  False False False False False False False False]\n",
      " [False False False False False False False False False False False False\n",
      "  False False False False False False False False]\n",
      " [False False False False False False False False False False False False\n",
      "  False False False False False False False False]\n",
      " [False False False False False False False False False False False False\n",
      "  False False False False False False False False]\n",
      " [False False False False False False False False False False False False\n",
      "  False False False False False False False False]\n",
      " [False False False False False False False False False False False False\n",
      "  False False False False False False False False]\n",
      " [False False False False False False False False False False False False\n",
      "  False False False False False False False False]\n",
      " [False False False False False False False False False False False False\n",
      "  False False False False False False False False]\n",
      " [False False False False False False False False False False False False\n",
      "  False False False False False False False False]]\n"
     ]
    }
   ],
   "source": [
    "print Y_train\n",
    "print pred_train >= 0.5\n",
    "print Y_train==(pred_train>=0.5)"
   ]
  },
  {
   "cell_type": "code",
   "execution_count": 6,
   "metadata": {},
   "outputs": [
    {
     "name": "stdout",
     "output_type": "stream",
     "text": [
      " Training PR AUC: 1.0\n",
      "Training accuracy: 5.0\n",
      "\n",
      "Validation ROC AUC: 0.843137254902\n",
      "Validation PR AUC: 0.757575757576\n",
      "Validation accuracy: 13.5\n"
     ]
    }
   ],
   "source": [
    "from sklearn.metrics import roc_auc_score\n",
    "from sklearn.metrics import precision_recall_curve\n",
    "from sklearn.metrics import auc\n",
    "from sklearn.metrics import average_precision_score\n",
    "\n",
    "print \"Training ROC AUC:\", roc_auc_score(Y_train, pred_train[:,0])\n",
    "avg_train_precision = average_precision_score(Y_train, pred_train[:,0])\n",
    "print \"Training PR AUC:\", avg_train_precision\n",
    "print \"Training accuracy:\", 1.0*np.sum(Y_train==(pred_train[:,0]>=0.5))/len(Y_train)\n",
    "\n",
    "print\n",
    "\n",
    "  \n",
    "print \"Validation ROC AUC:\", roc_auc_score(Y_valid, pred_valid[:,0])\n",
    "avg_valid_precision = average_precision_score(Y_valid, pred_valid[:,0])\n",
    "print \"Validation PR AUC:\", avg_valid_precision  \n",
    "print \"Validation accuracy:\", 1.0*np.sum(Y_valid==(pred_valid[:,0]>=0.5))/len(Y_valid)"
   ]
  },
  {
   "cell_type": "code",
   "execution_count": null,
   "metadata": {
    "collapsed": true
   },
   "outputs": [],
   "source": [
    "print sum(Y_train==1)\n",
    "print sum(Y_train==0)\n",
    "print sum(Y_valid==1)\n",
    "print sum(Y_valid==0)"
   ]
  },
  {
   "cell_type": "code",
   "execution_count": null,
   "metadata": {
    "collapsed": true
   },
   "outputs": [],
   "source": []
  },
  {
   "cell_type": "code",
   "execution_count": null,
   "metadata": {
    "collapsed": true
   },
   "outputs": [],
   "source": []
  }
 ],
 "metadata": {
  "kernelspec": {
   "display_name": "Python 2",
   "language": "python",
   "name": "python2"
  },
  "language_info": {
   "codemirror_mode": {
    "name": "ipython",
    "version": 2
   },
   "file_extension": ".py",
   "mimetype": "text/x-python",
   "name": "python",
   "nbconvert_exporter": "python",
   "pygments_lexer": "ipython2",
   "version": "2.7.13"
  }
 },
 "nbformat": 4,
 "nbformat_minor": 2
}
