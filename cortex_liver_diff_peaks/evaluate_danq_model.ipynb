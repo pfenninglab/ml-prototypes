{
 "cells": [
  {
   "cell_type": "code",
   "execution_count": 9,
   "metadata": {},
   "outputs": [],
   "source": [
    "from danq import get_danq_model\n",
    "import numpy as np\n",
    "\n",
    "X_train = np.load('/projects/pfenninggroup/machineLearningForComputationalBiology/regElEvoGrant/DifferentialPeakAnalysis/X_train_merged50.npy')\n",
    "Y_train = np.load('/projects/pfenninggroup/machineLearningForComputationalBiology/regElEvoGrant/DifferentialPeakAnalysis/Y_train_merged50.npy')\n",
    "\n",
    "X_valid = np.load('/projects/pfenninggroup/machineLearningForComputationalBiology/regElEvoGrant/DifferentialPeakAnalysis/X_valid_merged50.npy')\n",
    "Y_valid = np.load('/projects/pfenninggroup/machineLearningForComputationalBiology/regElEvoGrant/DifferentialPeakAnalysis/Y_valid_merged50.npy')"
   ]
  },
  {
   "cell_type": "code",
   "execution_count": 10,
   "metadata": {
    "collapsed": true
   },
   "outputs": [],
   "source": [
    "#X_train = X_train[0:20][:][:]\n",
    "#Y_train = Y_train[0:20][:]\n",
    "\n",
    "#X_valid = X_train[0:20][:][:]\n",
    "#Y_valid = Y_valid[0:20][:][:]"
   ]
  },
  {
   "cell_type": "code",
   "execution_count": 19,
   "metadata": {
    "collapsed": true
   },
   "outputs": [],
   "source": [
    "model = get_danq_model(numLabels=1)\n",
    "model.load_weights('/projects/pfenninggroup/machineLearningForComputationalBiology/regElEvoGrant/DifferentialPeakAnalysis/saved_danq_models/danq_corliv_lower_lr.hdf5')"
   ]
  },
  {
   "cell_type": "code",
   "execution_count": 20,
   "metadata": {},
   "outputs": [
    {
     "name": "stdout",
     "output_type": "stream",
     "text": [
      "162882/162882 [==============================] - 238s   \n",
      "7072/7077 [============================>.] - ETA: 0s"
     ]
    }
   ],
   "source": [
    "pred_train = model.predict_proba(X_train)\n",
    "pred_valid = model.predict_proba(X_valid)"
   ]
  },
  {
   "cell_type": "code",
   "execution_count": 21,
   "metadata": {},
   "outputs": [
    {
     "name": "stdout",
     "output_type": "stream",
     "text": [
      "Training ROC AUC: 0.831302460331\n",
      "Training PR AUC: 0.800790727002\n",
      "Training accuracy: 0.761004899252\n",
      "\n",
      "Validation ROC AUC: 0.808427838755\n",
      "Validation PR AUC: 0.827990056798\n",
      "Validation accuracy: 0.726720361735\n"
     ]
    }
   ],
   "source": [
    "from sklearn.metrics import roc_auc_score\n",
    "from sklearn.metrics import precision_recall_curve\n",
    "from sklearn.metrics import auc\n",
    "from sklearn.metrics import average_precision_score\n",
    "\n",
    "print \"Training ROC AUC:\", roc_auc_score(Y_train, pred_train[:,0])\n",
    "avg_train_precision = average_precision_score(Y_train, pred_train[:,0])\n",
    "print \"Training PR AUC:\", avg_train_precision\n",
    "print \"Training accuracy:\", 1.0*np.sum(Y_train==(pred_train[:,0]>=0.5))/len(Y_train)\n",
    "\n",
    "print\n",
    "\n",
    "  \n",
    "print \"Validation ROC AUC:\", roc_auc_score(Y_valid, pred_valid[:,0])\n",
    "avg_valid_precision = average_precision_score(Y_valid, pred_valid[:,0])\n",
    "print \"Validation PR AUC:\", avg_valid_precision  \n",
    "print \"Validation accuracy:\", 1.0*np.sum(Y_valid==(pred_valid[:,0]>=0.5))/len(Y_valid)"
   ]
  },
  {
   "cell_type": "code",
   "execution_count": 22,
   "metadata": {},
   "outputs": [
    {
     "name": "stdout",
     "output_type": "stream",
     "text": [
      "67637\n",
      "95245\n",
      "3684\n",
      "3393\n"
     ]
    }
   ],
   "source": [
    "print sum(Y_train==1)\n",
    "print sum(Y_train==0)\n",
    "print sum(Y_valid==1)\n",
    "print sum(Y_valid==0)"
   ]
  },
  {
   "cell_type": "code",
   "execution_count": null,
   "metadata": {
    "collapsed": true
   },
   "outputs": [],
   "source": []
  },
  {
   "cell_type": "code",
   "execution_count": null,
   "metadata": {
    "collapsed": true
   },
   "outputs": [],
   "source": []
  }
 ],
 "metadata": {
  "kernelspec": {
   "display_name": "Python 2",
   "language": "python",
   "name": "python2"
  },
  "language_info": {
   "codemirror_mode": {
    "name": "ipython",
    "version": 2
   },
   "file_extension": ".py",
   "mimetype": "text/x-python",
   "name": "python",
   "nbconvert_exporter": "python",
   "pygments_lexer": "ipython2",
   "version": "2.7.13"
  }
 },
 "nbformat": 4,
 "nbformat_minor": 2
}
