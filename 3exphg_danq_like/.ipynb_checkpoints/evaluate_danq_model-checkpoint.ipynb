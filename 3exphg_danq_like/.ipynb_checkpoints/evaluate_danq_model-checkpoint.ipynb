{
 "cells": [
  {
   "cell_type": "code",
   "execution_count": 1,
   "metadata": {},
   "outputs": [
    {
     "name": "stderr",
     "output_type": "stream",
     "text": [
      "Using Theano backend.\n",
      "WARNING (theano.sandbox.cuda): The cuda backend is deprecated and will be removed in the next release (v0.10).  Please switch to the gpuarray backend. You can get more information about how to switch at this URL:\n",
      " https://github.com/Theano/Theano/wiki/Converting-to-the-new-gpu-back-end%28gpuarray%29\n",
      "\n",
      "Using gpu device 0: GeForce GTX 1080 (CNMeM is enabled with initial size: 95.0% of memory, cuDNN 5105)\n"
     ]
    }
   ],
   "source": [
    "from danq import get_danq_model\n",
    "import numpy as np\n",
    "\n",
    "X_train = np.load('/home/eramamur/jemmie_3exphg_danq_input_data/X_train.npy')\n",
    "Y_train = np.load('/home/eramamur/jemmie_3exphg_danq_input_data/Y_train.npy')\n",
    "\n",
    "X_valid = np.load('/home/eramamur/jemmie_3exphg_danq_input_data/X_valid.npy')\n",
    "Y_valid = np.load('/home/eramamur/jemmie_3exphg_danq_input_data/Y_valid.npy')\n",
    "\n",
    "numLabels = Y_train.shape[1]\n",
    "model = get_danq_model(numLabels=numLabels)\n",
    "model.load_weights('/home/eramamur/Github_repos/ml-prototypes/3exphg_danq_like/saved_models/danq_3exphg_low_brnn_dropout.hdf5')\n",
    "\n",
    "#X_train = X_train[0:20][:][:]\n",
    "#Y_train = Y_train[0:20][:]\n",
    "\n",
    "#X_valid = X_train[0:20][:][:]\n",
    "#Y_valid = Y_valid[0:20][:][:]"
   ]
  },
  {
   "cell_type": "code",
   "execution_count": 2,
   "metadata": {},
   "outputs": [
    {
     "name": "stdout",
     "output_type": "stream",
     "text": [
      "1341018/1341018 [==============================] - 1674s  \n",
      "65376/65406 [============================>.] - ETA: 0s"
     ]
    }
   ],
   "source": [
    "pred_train = model.predict_proba(X_train)\n",
    "pred_valid = model.predict_proba(X_valid)"
   ]
  },
  {
   "cell_type": "code",
   "execution_count": 7,
   "metadata": {},
   "outputs": [
    {
     "name": "stdout",
     "output_type": "stream",
     "text": [
      " Training ROC AUC: 0.645666342242\n",
      "Training PR AUC: 0.707475223571\n",
      "Training accuracy: 0.54516941607\n",
      "Validation ROC AUC: 0.65630700439\n",
      "Validation PR AUC: 0.725460099696\n",
      "Validation accuracy: 0.507950340947\n",
      "Training ROC AUC: 0.660143074182\n",
      "Training PR AUC: 0.706976028222\n",
      "Training accuracy: 0.593590839198\n",
      "Validation ROC AUC: 0.631704692721\n",
      "Validation PR AUC: 0.654683439745\n",
      "Validation accuracy: 0.586643427209\n",
      "Training ROC AUC: 0.692721272444\n",
      "Training PR AUC: 0.732677973586\n",
      "Training accuracy: 0.504190100357\n",
      "Validation ROC AUC: 0.699372486468\n",
      "Validation PR AUC: 0.701051663475\n",
      "Validation accuracy: 0.532902180228\n"
     ]
    }
   ],
   "source": [
    "from sklearn.metrics import roc_auc_score\n",
    "from sklearn.metrics import precision_recall_curve\n",
    "from sklearn.metrics import auc\n",
    "from sklearn.metrics import average_precision_score\n",
    "\n",
    "for i in xrange(numLabels):\n",
    "    print \"Training ROC AUC:\", roc_auc_score(Y_train[:,i], pred_train[:,i])\n",
    "    avg_train_precision = average_precision_score(Y_train[:,i], pred_train[:,i])\n",
    "    print \"Training PR AUC:\", avg_train_precision\n",
    "    print \"Training accuracy:\", 1.0*np.sum(Y_train[:,i]==(pred_train[:,1]>=0.5))/len(Y_train[:,i])\n",
    "    \n",
    "for i in xrange(numLabels):    \n",
    "    print \"Validation ROC AUC:\", roc_auc_score(Y_valid[:,i], pred_valid[:,i])\n",
    "    avg_valid_precision = average_precision_score(Y_valid[:,i], pred_valid[:,i])\n",
    "    print \"Validation PR AUC:\", avg_valid_precision  \n",
    "    print \"Validation accuracy:\", 1.0*np.sum(Y_valid[:,i]==(pred_valid[:,1]>=0.5))/len(Y_valid[:,i])\n"
   ]
  },
  {
   "cell_type": "code",
   "execution_count": 8,
   "metadata": {},
   "outputs": [
    {
     "name": "stdout",
     "output_type": "stream",
     "text": [
      "747459\n",
      "593559\n",
      "37428\n",
      "27978\n",
      "718853\n",
      "622165\n",
      "32647\n",
      "32759\n",
      "746331\n",
      "594687\n",
      "33044\n",
      "32362\n"
     ]
    }
   ],
   "source": [
    "for i in xrange(numLabels):\n",
    "    print sum(Y_train[:,i]==1)\n",
    "    print sum(Y_train[:,i]==0)\n",
    "    print sum(Y_valid[:,i]==1)\n",
    "    print sum(Y_valid[:,i]==0)"
   ]
  },
  {
   "cell_type": "code",
   "execution_count": null,
   "metadata": {
    "collapsed": true
   },
   "outputs": [],
   "source": []
  }
 ],
 "metadata": {
  "kernelspec": {
   "display_name": "Python 2",
   "language": "python",
   "name": "python2"
  },
  "language_info": {
   "codemirror_mode": {
    "name": "ipython",
    "version": 2
   },
   "file_extension": ".py",
   "mimetype": "text/x-python",
   "name": "python",
   "nbconvert_exporter": "python",
   "pygments_lexer": "ipython2",
   "version": "2.7.13"
  }
 },
 "nbformat": 4,
 "nbformat_minor": 2
}
