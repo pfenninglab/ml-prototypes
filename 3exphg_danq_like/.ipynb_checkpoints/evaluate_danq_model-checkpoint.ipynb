{
 "cells": [
  {
   "cell_type": "code",
   "execution_count": 11,
   "metadata": {},
   "outputs": [
    {
     "name": "stdout",
     "output_type": "stream",
     "text": [
      "compiling model\n",
      "_________________________________________________________________\n",
      "Layer (type)                 Output Shape              Param #   \n",
      "=================================================================\n",
      "conv1d_3 (Conv1D)            (None, 975, 320)          33600     \n",
      "_________________________________________________________________\n",
      "max_pooling1d_3 (MaxPooling1 (None, 75, 320)           0         \n",
      "_________________________________________________________________\n",
      "dropout_4 (Dropout)          (None, 75, 320)           0         \n",
      "_________________________________________________________________\n",
      "bidirectional_3 (Bidirection (None, 75, 640)           1640960   \n",
      "_________________________________________________________________\n",
      "dropout_5 (Dropout)          (None, 75, 640)           0         \n",
      "_________________________________________________________________\n",
      "flatten_2 (Flatten)          (None, 48000)             0         \n",
      "_________________________________________________________________\n",
      "dense_3 (Dense)              (None, 925)               44400925  \n",
      "_________________________________________________________________\n",
      "activation_3 (Activation)    (None, 925)               0         \n",
      "_________________________________________________________________\n",
      "dense_4 (Dense)              (None, 3)                 2778      \n",
      "_________________________________________________________________\n",
      "activation_4 (Activation)    (None, 3)                 0         \n",
      "=================================================================\n",
      "Total params: 46,078,263\n",
      "Trainable params: 46,078,263\n",
      "Non-trainable params: 0\n",
      "_________________________________________________________________\n"
     ]
    }
   ],
   "source": [
    "from keras.models import Sequential\n",
    "\n",
    "\n",
    "from keras.layers.convolutional import Conv1D\n",
    "from keras.layers.core import Dense, Dropout, Activation, Flatten\n",
    "from keras.layers.pooling import MaxPooling1D\n",
    "from keras.layers.wrappers import Bidirectional\n",
    "from keras.layers.recurrent import LSTM\n",
    "\n",
    "from keras.utils import plot_model\n",
    "\n",
    "\n",
    "\n",
    "\n",
    "model = Sequential()\n",
    "\n",
    "model.add(Conv1D(input_shape = (1000, 4),\n",
    "                    padding=\"valid\",\n",
    "                    strides=1,\n",
    "                    activation=\"relu\",\n",
    "                    kernel_size=26,\n",
    "                    filters=320))                 \n",
    "                 \n",
    "          \n",
    "model.add(MaxPooling1D(pool_size=13, strides=13))\n",
    "\n",
    "model.add(Dropout(0.2))\n",
    "\n",
    "\n",
    "brnn = Bidirectional(LSTM(320, return_sequences=True))\n",
    "model.add(brnn)\n",
    "          \n",
    "model.add(Dropout(0.5))\n",
    "\n",
    "model.add(Flatten())\n",
    "\n",
    "model.add(Dense(input_dim=75*640, units=925))\n",
    "model.add(Activation('relu'))\n",
    "\n",
    "model.add(Dense(units=3))\n",
    "model.add(Activation('sigmoid'))\n",
    "\n",
    "print 'compiling model'\n",
    "model.compile(loss='binary_crossentropy', optimizer='rmsprop')\n",
    "\n",
    "model.summary()"
   ]
  },
  {
   "cell_type": "code",
   "execution_count": 12,
   "metadata": {
    "collapsed": true
   },
   "outputs": [],
   "source": [
    "model.load_weights('/home/eramamur/danq_bestmodel_3exphg_checkpoint.hdf5')"
   ]
  },
  {
   "cell_type": "code",
   "execution_count": 19,
   "metadata": {
    "collapsed": true
   },
   "outputs": [],
   "source": [
    "import numpy as np\n",
    "X_train = np.load('/home/eramamur/jemmie_3exphg_danq_input_data/X_train.npy')\n",
    "Y_train = np.load('/home/eramamur/jemmie_3exphg_danq_input_data/Y_train.npy')\n",
    "\n",
    "X_valid = np.load('/home/eramamur/jemmie_3exphg_danq_input_data/X_valid.npy')\n",
    "Y_valid = np.load('/home/eramamur/jemmie_3exphg_danq_input_data/Y_valid.npy')"
   ]
  },
  {
   "cell_type": "code",
   "execution_count": 20,
   "metadata": {},
   "outputs": [
    {
     "name": "stdout",
     "output_type": "stream",
     "text": [
      "1341018/1341018 [==============================] - 1690s  \n",
      "65376/65406 [============================>.] - ETA: 0s"
     ]
    }
   ],
   "source": [
    "pred_train = model.predict_proba(X_train)\n",
    "pred_valid = model.predict_proba(X_valid)"
   ]
  },
  {
   "cell_type": "code",
   "execution_count": 21,
   "metadata": {},
   "outputs": [
    {
     "name": "stdout",
     "output_type": "stream",
     "text": [
      "Training AUC: 0.5\n",
      "Validation AUC: 0.5\n",
      "Training AUC: 0.5\n",
      "Validation AUC: 0.5\n",
      "Training AUC: 0.5\n",
      "Validation AUC: 0.5\n"
     ]
    }
   ],
   "source": [
    "from sklearn.metrics import roc_auc_score\n",
    "\n",
    "label_names = ['G', 'M', 'N']\n",
    "\n",
    "\n",
    "for i in xrange(len(label_names)):\n",
    "    print \"Training AUC:\", roc_auc_score(Y_train[:,i], pred_train[:,i])\n",
    "    print \"Validation AUC:\", roc_auc_score(Y_valid[:,i], pred_valid[:,i])"
   ]
  }
 ],
 "metadata": {
  "kernelspec": {
   "display_name": "Python 2",
   "language": "python",
   "name": "python2"
  },
  "language_info": {
   "codemirror_mode": {
    "name": "ipython",
    "version": 2
   },
   "file_extension": ".py",
   "mimetype": "text/x-python",
   "name": "python",
   "nbconvert_exporter": "python",
   "pygments_lexer": "ipython2",
   "version": "2.7.13"
  }
 },
 "nbformat": 4,
 "nbformat_minor": 2
}
