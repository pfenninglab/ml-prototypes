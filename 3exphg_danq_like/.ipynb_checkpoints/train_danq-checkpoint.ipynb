{
 "cells": [
  {
   "cell_type": "code",
   "execution_count": 1,
   "metadata": {
    "collapsed": true
   },
   "outputs": [],
   "source": [
    "import numpy as np"
   ]
  },
  {
   "cell_type": "code",
   "execution_count": null,
   "metadata": {
    "collapsed": true
   },
   "outputs": [],
   "source": [
    "X_train = np.load(file='/home/eramamur/jemmie_3exphg_danq_input_data/X_train.npy')\n",
    "X_valid = np.load(file='/home/eramamur/jemmie_3exphg_danq_input_data/X_valid.npy')\n",
    "\n",
    "Y_train = np.load(file='/home/eramamur/jemmie_3exphg_danq_input_data/Y_train.npy')\n",
    "Y_valid = np.load(file='/home/eramamur/jemmie_3exphg_danq_input_data/Y_valid.npy')"
   ]
  },
  {
   "cell_type": "code",
   "execution_count": 2,
   "metadata": {},
   "outputs": [],
   "source": [
    "import h5py\n",
    "\n",
    "danq_original = h5py.File('/home/eramamur/Github_repos/ml-prototypes/3exphg_danq_like/DanQ_bestmodel.hdf5')\n",
    "\n",
    "conv_layer_kernel_weights = danq_original['layer_0']['param_0']\n",
    "conv_layer_kernel_weights = np.transpose(conv_layer_kernel_weights, (2,1,0,3))[:,:,:,0]\n",
    "conv_layer_bias_weights = np.array(danq_original['layer_0']['param_1'])\n",
    "\n",
    "conv_layer_weights = [conv_layer_kernel_weights, conv_layer_bias_weights]"
   ]
  },
  {
   "cell_type": "code",
   "execution_count": 3,
   "metadata": {},
   "outputs": [
    {
     "name": "stderr",
     "output_type": "stream",
     "text": [
      "Using Theano backend.\n",
      "WARNING (theano.sandbox.cuda): The cuda backend is deprecated and will be removed in the next release (v0.10).  Please switch to the gpuarray backend. You can get more information about how to switch at this URL:\n",
      " https://github.com/Theano/Theano/wiki/Converting-to-the-new-gpu-back-end%28gpuarray%29\n",
      "\n",
      "Using gpu device 0: GeForce GTX 1080 (CNMeM is enabled with initial size: 95.0% of memory, cuDNN 5105)\n"
     ]
    },
    {
     "name": "stdout",
     "output_type": "stream",
     "text": [
      "compiling model\n",
      "_________________________________________________________________\n",
      "Layer (type)                 Output Shape              Param #   \n",
      "=================================================================\n",
      "conv1d_1 (Conv1D)            (None, 975, 320)          33600     \n",
      "_________________________________________________________________\n",
      "max_pooling1d_1 (MaxPooling1 (None, 75, 320)           0         \n",
      "_________________________________________________________________\n",
      "dropout_1 (Dropout)          (None, 75, 320)           0         \n",
      "_________________________________________________________________\n",
      "bidirectional_1 (Bidirection (None, 75, 640)           1640960   \n",
      "_________________________________________________________________\n",
      "dropout_2 (Dropout)          (None, 75, 640)           0         \n",
      "_________________________________________________________________\n",
      "flatten_1 (Flatten)          (None, 48000)             0         \n",
      "_________________________________________________________________\n",
      "dense_1 (Dense)              (None, 925)               44400925  \n",
      "_________________________________________________________________\n",
      "activation_1 (Activation)    (None, 925)               0         \n",
      "_________________________________________________________________\n",
      "dense_2 (Dense)              (None, 3)                 2778      \n",
      "_________________________________________________________________\n",
      "activation_2 (Activation)    (None, 3)                 0         \n",
      "=================================================================\n",
      "Total params: 46,078,263\n",
      "Trainable params: 46,078,263\n",
      "Non-trainable params: 0\n",
      "_________________________________________________________________\n"
     ]
    }
   ],
   "source": [
    "from keras.models import Sequential\n",
    "\n",
    "\n",
    "from keras.layers.convolutional import Conv1D\n",
    "from keras.layers.core import Dense, Dropout, Activation, Flatten\n",
    "from keras.layers.pooling import MaxPooling1D\n",
    "from keras.layers.wrappers import Bidirectional\n",
    "from keras.layers.recurrent import LSTM\n",
    "\n",
    "from keras.utils import plot_model\n",
    "\n",
    "\n",
    "\n",
    "\n",
    "model = Sequential()\n",
    "\n",
    "conv_layer = Conv1D(input_shape = (1000, 4),\n",
    "                    padding=\"valid\",\n",
    "                    strides=1,\n",
    "                    activation=\"relu\",\n",
    "                    kernel_size=26,\n",
    "                    filters=320)\n",
    "\n",
    "\n",
    "\n",
    "model.add(conv_layer)                 \n",
    "                 \n",
    "          \n",
    "model.add(MaxPooling1D(pool_size=13, strides=13))\n",
    "\n",
    "model.add(Dropout(0.2))\n",
    "\n",
    "brnn = Bidirectional(LSTM(320, return_sequences=True))\n",
    "\n",
    "model.add(brnn)\n",
    "          \n",
    "model.add(Dropout(0.5))\n",
    "\n",
    "model.add(Flatten())\n",
    "\n",
    "model.add(Dense(input_dim=75*640, units=925))\n",
    "model.add(Activation('relu'))\n",
    "\n",
    "model.add(Dense(units=3))\n",
    "model.add(Activation('sigmoid'))\n",
    "\n",
    "print 'compiling model'\n",
    "model.compile(loss='binary_crossentropy', optimizer='rmsprop')\n",
    "\n",
    "model.summary()\n",
    "model.load_weights('/home/eramamur/Github_repos/ml-prototypes/3exphg_danq_like/danq_bestmodel_3exphg.hdf5')\n",
    "conv_layer.set_weights(conv_layer_weights)"
   ]
  },
  {
   "cell_type": "code",
   "execution_count": null,
   "metadata": {},
   "outputs": [
    {
     "name": "stdout",
     "output_type": "stream",
     "text": [
      "Train on 1341018 samples, validate on 65406 samples\n",
      "Epoch 1/60\n",
      "   1800/1341018 [..............................] - ETA: 59607s - loss: 8.3267"
     ]
    }
   ],
   "source": [
    "model.fit(x=X_train, y=Y_train, batch_size=100, epochs=60, shuffle=True, verbose=1, validation_data = (X_valid, Y_valid), initial_epoch=0)"
   ]
  }
 ],
 "metadata": {
  "kernelspec": {
   "display_name": "Python 2",
   "language": "python",
   "name": "python2"
  },
  "language_info": {
   "codemirror_mode": {
    "name": "ipython",
    "version": 2
   },
   "file_extension": ".py",
   "mimetype": "text/x-python",
   "name": "python",
   "nbconvert_exporter": "python",
   "pygments_lexer": "ipython2",
   "version": "2.7.13"
  }
 },
 "nbformat": 4,
 "nbformat_minor": 2
}
